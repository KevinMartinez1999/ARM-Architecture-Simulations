{
 "cells": [
  {
   "cell_type": "markdown",
   "metadata": {},
   "source": [
    "# Get data from the *_config.log and *_stats.txt files"
   ]
  },
  {
   "cell_type": "code",
   "execution_count": 21,
   "metadata": {},
   "outputs": [],
   "source": [
    "# Libraries for load data from log and stats files\n",
    "import os\n",
    "import pandas as pd\n",
    "import numpy as np"
   ]
  },
  {
   "cell_type": "code",
   "execution_count": 22,
   "metadata": {},
   "outputs": [],
   "source": [
    "NUM_FILE_TOTAL_LAKAGE = 15; INIT_COLUMN_TOTAL_LAKAGE = 19; END_COLUMN_TOTAL_LAKAGE = 25\n",
    "NUM_FILE_RUN_DYNAMIC = 19; INIT_COLUMN_RUN_DYNAMIC = 21; END_COLUMN_RUN_DYNAMIC = 27\n",
    "NUM_FILE_CPI = 17; INIT_COLUMN_CPI = 46; END_COLUMN_CPI = 54"
   ]
  },
  {
   "cell_type": "code",
   "execution_count": 23,
   "metadata": {},
   "outputs": [],
   "source": [
    "total_lakage = []\n",
    "run_dynamic = []\n",
    "cpi = []\n",
    "label = []"
   ]
  },
  {
   "cell_type": "code",
   "execution_count": 24,
   "metadata": {},
   "outputs": [],
   "source": [
    "SIM_NAME = 'mp3_dec'\n",
    "dir = 'log_results/{}/'.format(SIM_NAME)\n",
    "for filename in os.listdir(dir):\n",
    "    if filename.endswith('.log'):\n",
    "        path = os.path.join(dir, filename)\n",
    "        try:\n",
    "            with open(path, 'r') as f:\n",
    "                lines = f.readlines()\n",
    "                if NUM_FILE_TOTAL_LAKAGE < len(lines):\n",
    "                    data = lines[NUM_FILE_TOTAL_LAKAGE-1]\n",
    "                    data = data[INIT_COLUMN_TOTAL_LAKAGE-1:END_COLUMN_TOTAL_LAKAGE]\n",
    "                    total_lakage.append(float(data))\n",
    "                if NUM_FILE_RUN_DYNAMIC < len(lines):\n",
    "                    data = lines[NUM_FILE_RUN_DYNAMIC-1]\n",
    "                    data = data[INIT_COLUMN_RUN_DYNAMIC-1:END_COLUMN_RUN_DYNAMIC]\n",
    "                    run_dynamic.append(float(data))\n",
    "        except FileNotFoundError:\n",
    "            print(f\"El archivo {filename} no fue encontrado.\")\n",
    "        except IOError:\n",
    "            print(f\"No se pudo leer el archivo {filename}.\")\n",
    "\n",
    "dir = 'database/{}/'.format(SIM_NAME)\n",
    "for filename in os.listdir(dir):\n",
    "    if filename.endswith('.txt'):\n",
    "        base = os.path.splitext(filename)[0]; base =base.replace('_stats', '')\n",
    "        label.append(base)\n",
    "        path = os.path.join(dir, filename)\n",
    "        try:\n",
    "            with open(path, 'r') as f:\n",
    "                lines = f.readlines()\n",
    "                if NUM_FILE_CPI < len(lines):\n",
    "                    data = lines[NUM_FILE_CPI-1]\n",
    "                    data = data[INIT_COLUMN_CPI-1:END_COLUMN_CPI]\n",
    "                    cpi.append(float(data))\n",
    "        except FileNotFoundError:\n",
    "            print(f\"El archivo {filename} no fue encontrado.\")\n",
    "        except IOError:\n",
    "            print(f\"No se pudo leer el archivo {filename}.\")"
   ]
  },
  {
   "cell_type": "code",
   "execution_count": 25,
   "metadata": {},
   "outputs": [],
   "source": [
    "df = pd.DataFrame(columns=['Total Lakage', 'Runtime Dynamic', 'CPI', 'Energy', 'EDP', 'label'])\n",
    "df['Total Lakage'] = total_lakage\n",
    "df['Runtime Dynamic'] = run_dynamic\n",
    "df['CPI'] = cpi\n",
    "df['Energy'] = (df['Total Lakage'] + df['Runtime Dynamic']) * df['CPI']\n",
    "df['EDP'] = df['Energy'] * df['CPI']\n",
    "df['label'] = label\n",
    "df.head()\n",
    "df.to_csv('metrics_{}.csv'.format(SIM_NAME), index=False)"
   ]
  }
 ],
 "metadata": {
  "kernelspec": {
   "display_name": "Python 3",
   "language": "python",
   "name": "python3"
  },
  "language_info": {
   "codemirror_mode": {
    "name": "ipython",
    "version": 3
   },
   "file_extension": ".py",
   "mimetype": "text/x-python",
   "name": "python",
   "nbconvert_exporter": "python",
   "pygments_lexer": "ipython3",
   "version": "3.11.5"
  }
 },
 "nbformat": 4,
 "nbformat_minor": 2
}
