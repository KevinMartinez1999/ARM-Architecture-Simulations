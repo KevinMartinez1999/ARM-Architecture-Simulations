{
 "cells": [
  {
   "cell_type": "code",
   "execution_count": null,
   "metadata": {},
   "outputs": [],
   "source": [
    "import numpy as np\n",
    "import pandas as pd\n",
    "import matplotlib.pyplot as plt"
   ]
  },
  {
   "cell_type": "code",
   "execution_count": null,
   "metadata": {},
   "outputs": [],
   "source": [
    "def polinomial_func(x_step, x, y, deg=2):\n",
    "    p = np.polyfit(x, y, deg)\n",
    "    z = np.poly1d(p)\n",
    "    curve = z(x_step)\n",
    "    return curve\n",
    "\n",
    "def mover_elemento_al_final(arr, indice):\n",
    "    if 0 <= indice < len(arr):\n",
    "        elemento = arr.pop(indice)\n",
    "        arr.append(elemento)\n",
    "        return arr\n",
    "    else:\n",
    "        print(\"Índice fuera de rango\")"
   ]
  },
  {
   "cell_type": "code",
   "execution_count": null,
   "metadata": {},
   "outputs": [],
   "source": [
    "workload = 'h264_enc'\n",
    "df = pd.read_csv('metrics_{}.csv'.format(workload))\n",
    "df.head()"
   ]
  },
  {
   "cell_type": "code",
   "execution_count": null,
   "metadata": {},
   "outputs": [],
   "source": [
    "def generar_tendencias():    \n",
    "    l3_cache = ['1MB', '2MB', '4MB', '8MB']\n",
    "    l2_cache = ['128kB', '256KB', '512KB', '1MB']\n",
    "    decode_width = ['1', '2', '4', '8']\n",
    "    num_alu = ['2', '4', '8', '16']\n",
    "    label_y = ['CPI (Cycles Per Instruction)', 'Energy [J]', 'EDP (Energy-Delay Product)']\n",
    "    metric = ['CPI', 'Energy', 'EDP']\n",
    "\n",
    "    for j in range(3):\n",
    "        if j == 0:\n",
    "            color = 'b'\n",
    "        elif j == 1:\n",
    "            color = 'g'\n",
    "        elif j == 2:\n",
    "            color = 'r'\n",
    "        for i in range(4):\n",
    "            data = []\n",
    "            if i == 0:\n",
    "                l1 = \"l2_cache=128kB_decode_width=1_num_fu_intALU=16\"\n",
    "                l2 = \"\"\n",
    "                eje_x = l3_cache\n",
    "                label_x = 'Tamaño de la cache L3'\n",
    "            elif i == 1:\n",
    "                l1 = \"decode_width=1_num_fu_intALU=16\"\n",
    "                l2 = \"l3_cache=1MB\"\n",
    "                eje_x = l2_cache\n",
    "                label_x = 'Tamaño de la cache L2'\n",
    "            elif i == 2:\n",
    "                l1 = \"num_fu_intALU=16\"\n",
    "                l2 = \"l3_cache=1MB_l2_cache=128kB\"\n",
    "                eje_x = decode_width\n",
    "                label_x = 'Ancho de decodificación de CPU'\n",
    "            elif i == 3:\n",
    "                l1 = \"l3_cache=1MB_l2_cache=128kB_decode_width=1\"\n",
    "                l2 = \"\"\n",
    "                eje_x = num_alu\n",
    "                label_x = 'Número de ALUs'\n",
    "\n",
    "            for it, item in enumerate(df[metric[j]]):\n",
    "                if l1 in df['label'][it] and l2 in df['label'][it]:\n",
    "                    print(df['label'][it])\n",
    "                    data.append(item)\n",
    "\n",
    "            if i == 1:\n",
    "                data = mover_elemento_al_final(data, 1)\n",
    "            elif i == 3:\n",
    "                data = mover_elemento_al_final(data, 0)\n",
    "\n",
    "            x_step = np.linspace(0, len(data)-1, 100)\n",
    "            plt.figure()\n",
    "            plt.scatter(eje_x, data, s=60, marker='s', c=color, edgecolors='k', zorder=3, clip_on=False)\n",
    "            plt.plot(x_step, polinomial_func(x_step, np.arange(len(data)), data), c=color, linestyle='--')\n",
    "            plt.xlabel(label_x, fontsize=14)\n",
    "            plt.ylabel(label_y[j], fontsize=14)\n",
    "            plt.xlim(0, len(data)-1)\n",
    "            plt.savefig('{}_{}_{}.svg'.format(workload, metric[j], i), format='svg', bbox_inches='tight', pad_inches=0.1)\n",
    "            plt.show()"
   ]
  },
  {
   "cell_type": "code",
   "execution_count": null,
   "metadata": {},
   "outputs": [],
   "source": [
    "def generar_energia_cpi():    \n",
    "    plt.figure()\n",
    "    plt.scatter(df['Energy'], df['CPI'], s=60, c='y', edgecolors='k', zorder=3, clip_on=False)\n",
    "    plt.xlabel('Energy [J]', fontsize=14)\n",
    "    plt.ylabel('CPI (Cycles Per Instruction)', fontsize=14)\n",
    "    plt.savefig('{}_energy_cpi.svg'.format(workload), format='svg', bbox_inches='tight', pad_inches=0.1)\n",
    "    plt.show()"
   ]
  }
 ],
 "metadata": {
  "kernelspec": {
   "display_name": "base",
   "language": "python",
   "name": "python3"
  },
  "language_info": {
   "codemirror_mode": {
    "name": "ipython",
    "version": 3
   },
   "file_extension": ".py",
   "mimetype": "text/x-python",
   "name": "python",
   "nbconvert_exporter": "python",
   "pygments_lexer": "ipython3",
   "version": "3.11.5"
  }
 },
 "nbformat": 4,
 "nbformat_minor": 2
}
