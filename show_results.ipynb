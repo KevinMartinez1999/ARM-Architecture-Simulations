{
 "cells": [
  {
   "cell_type": "code",
   "execution_count": 1,
   "metadata": {},
   "outputs": [],
   "source": [
    "import numpy as np\n",
    "import matplotlib.pyplot as plt\n",
    "import pandas as pd\n",
    "import seaborn as sns"
   ]
  },
  {
   "cell_type": "code",
   "execution_count": 2,
   "metadata": {},
   "outputs": [
    {
     "data": {
      "text/html": [
       "<div>\n",
       "<style scoped>\n",
       "    .dataframe tbody tr th:only-of-type {\n",
       "        vertical-align: middle;\n",
       "    }\n",
       "\n",
       "    .dataframe tbody tr th {\n",
       "        vertical-align: top;\n",
       "    }\n",
       "\n",
       "    .dataframe thead th {\n",
       "        text-align: right;\n",
       "    }\n",
       "</style>\n",
       "<table border=\"1\" class=\"dataframe\">\n",
       "  <thead>\n",
       "    <tr style=\"text-align: right;\">\n",
       "      <th></th>\n",
       "      <th>Total Lakage</th>\n",
       "      <th>Runtime Dynamic</th>\n",
       "      <th>CPI</th>\n",
       "      <th>Energy</th>\n",
       "      <th>EDP</th>\n",
       "    </tr>\n",
       "  </thead>\n",
       "  <tbody>\n",
       "    <tr>\n",
       "      <th>0</th>\n",
       "      <td>0.49407</td>\n",
       "      <td>0.63179</td>\n",
       "      <td>1.416044</td>\n",
       "      <td>1.594267</td>\n",
       "      <td>2.257553</td>\n",
       "    </tr>\n",
       "    <tr>\n",
       "      <th>1</th>\n",
       "      <td>0.49407</td>\n",
       "      <td>0.63201</td>\n",
       "      <td>1.416111</td>\n",
       "      <td>1.594654</td>\n",
       "      <td>2.258207</td>\n",
       "    </tr>\n",
       "    <tr>\n",
       "      <th>2</th>\n",
       "      <td>0.49407</td>\n",
       "      <td>0.63179</td>\n",
       "      <td>1.416088</td>\n",
       "      <td>1.594317</td>\n",
       "      <td>2.257693</td>\n",
       "    </tr>\n",
       "    <tr>\n",
       "      <th>3</th>\n",
       "      <td>0.49407</td>\n",
       "      <td>0.63179</td>\n",
       "      <td>1.416027</td>\n",
       "      <td>1.594248</td>\n",
       "      <td>2.257498</td>\n",
       "    </tr>\n",
       "    <tr>\n",
       "      <th>4</th>\n",
       "      <td>0.49411</td>\n",
       "      <td>0.74197</td>\n",
       "      <td>0.999090</td>\n",
       "      <td>1.234955</td>\n",
       "      <td>1.233831</td>\n",
       "    </tr>\n",
       "  </tbody>\n",
       "</table>\n",
       "</div>"
      ],
      "text/plain": [
       "   Total Lakage  Runtime Dynamic       CPI    Energy       EDP\n",
       "0       0.49407          0.63179  1.416044  1.594267  2.257553\n",
       "1       0.49407          0.63201  1.416111  1.594654  2.258207\n",
       "2       0.49407          0.63179  1.416088  1.594317  2.257693\n",
       "3       0.49407          0.63179  1.416027  1.594248  2.257498\n",
       "4       0.49411          0.74197  0.999090  1.234955  1.233831"
      ]
     },
     "execution_count": 2,
     "metadata": {},
     "output_type": "execute_result"
    }
   ],
   "source": [
    "df = pd.read_csv('metrics_h264_dec.csv')\n",
    "df.head()"
   ]
  },
  {
   "cell_type": "code",
   "execution_count": 3,
   "metadata": {},
   "outputs": [
    {
     "name": "stdout",
     "output_type": "stream",
     "text": [
      "Best CPI:  0.890047 Index:  222\n"
     ]
    }
   ],
   "source": [
    "print('Best CPI: ', df['CPI'].min(), 'Index: ', df['CPI'].idxmin() - 1)"
   ]
  },
  {
   "cell_type": "code",
   "execution_count": 4,
   "metadata": {},
   "outputs": [],
   "source": [
    "l3_cache = ['1MB', '2MB', '4MB', '8MB']\n",
    "l2_cache = ['128kB', '256kB', '512kB', '1MB']\n",
    "decode_width = [1, 2, 4, 8]\n",
    "num_fu_intALU = [2, 4, 8, 16]"
   ]
  },
  {
   "cell_type": "code",
   "execution_count": null,
   "metadata": {},
   "outputs": [],
   "source": []
  }
 ],
 "metadata": {
  "kernelspec": {
   "display_name": "base",
   "language": "python",
   "name": "python3"
  },
  "language_info": {
   "codemirror_mode": {
    "name": "ipython",
    "version": 3
   },
   "file_extension": ".py",
   "mimetype": "text/x-python",
   "name": "python",
   "nbconvert_exporter": "python",
   "pygments_lexer": "ipython3",
   "version": "3.11.5"
  }
 },
 "nbformat": 4,
 "nbformat_minor": 2
}
